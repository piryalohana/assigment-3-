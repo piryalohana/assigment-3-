{
 "cells": [
  {
   "cell_type": "code",
   "execution_count": 1,
   "metadata": {},
   "outputs": [
    {
     "name": "stdout",
     "output_type": "stream",
     "text": [
      "The area of the circle with radius 67 is: 14102.609421964582\n"
     ]
    }
   ],
   "source": [
    "from math import pi\n",
    "r = 67\n",
    "print (\"The area of the circle with radius \" + str(r) + \" is: \" + str(pi * r**2))\n",
    "#Write a Python program which accepts the radius of a circle from the user and compute\n",
    "#the area."
   ]
  },
  {
   "cell_type": "code",
   "execution_count": 3,
   "metadata": {},
   "outputs": [
    {
     "name": "stdout",
     "output_type": "stream",
     "text": [
      "22-oct-2021,5:47\n"
     ]
    }
   ],
   "source": [
    "import datetime\n",
    "now = datetime.datetime.now()\n",
    "print (\"22-oct-2021,5:47\") #Write a Python program to display the current date and time."
   ]
  },
  {
   "cell_type": "code",
   "execution_count": 4,
   "metadata": {},
   "outputs": [
    {
     "name": "stdout",
     "output_type": "stream",
     "text": [
      "pirya lohana\n"
     ]
    }
   ],
   "source": [
    "print(\"pirya\"+\" lohana\")# Write a Python program which accepts the user's first \n",
    "#and last name and print them in reverse order with a space between them."
   ]
  },
  {
   "cell_type": "code",
   "execution_count": 5,
   "metadata": {},
   "outputs": [],
   "source": [
    "#when ever i take input from user my jupyternotebook stop working "
   ]
  },
  {
   "cell_type": "code",
   "execution_count": 6,
   "metadata": {},
   "outputs": [
    {
     "name": "stdout",
     "output_type": "stream",
     "text": [
      "110\n"
     ]
    }
   ],
   "source": [
    "a = 30\n",
    "b = 80\n",
    "sum = a + b\n",
    "print(sum) #Write a python program which takes two inputs from user and print them addition"
   ]
  },
  {
   "cell_type": "code",
   "execution_count": 10,
   "metadata": {},
   "outputs": [
    {
     "name": "stdout",
     "output_type": "stream",
     "text": [
      "Grade D\n"
     ]
    }
   ],
   "source": [
    "persent = 45\n",
    "if persent < 100 and persent > 80:\n",
    "    print (\"Grade A+\")\n",
    "elif persent < 80 and persent > 70: \n",
    "    print (\"Grade A\");\n",
    "elif persent < 70 and persent > 60:\n",
    "    print (\"Grade B\");\n",
    "elif persent < 60 and persent > 50:\n",
    "    print (\"Grade C\");\n",
    "elif persent < 50 and persent > 40:\n",
    "    print (\"Grade D\");\n",
    "elif persent < 40 and persent > 30:\n",
    "    print (\"Grade E\");\n",
    "elif persent < 30 and persent > 20:\n",
    "    print (\"Grade F\");\n",
    "else:\n",
    "    print (\"Fail\")\n",
    "#Write a program which takes 5 inputs from user for different subject’s marks, total it\n",
    "#and generate mark sheet using grades"
   ]
  },
  {
   "cell_type": "code",
   "execution_count": 14,
   "metadata": {},
   "outputs": [
    {
     "name": "stdout",
     "output_type": "stream",
     "text": [
      "{0} is Odd\n"
     ]
    }
   ],
   "source": [
    "num = 23\n",
    "if (num % 2) == 0:\n",
    "   print(\"{0} is Even\")\n",
    "else:\n",
    "   print(\"{0} is Odd\")\n",
    "#Write a program which take input from user and identify that the given number is even\n",
    "#or odd?"
   ]
  },
  {
   "cell_type": "code",
   "execution_count": 15,
   "metadata": {},
   "outputs": [
    {
     "name": "stdout",
     "output_type": "stream",
     "text": [
      "['apple', 'bannana', 'grapes']\n",
      "The length of list is:  3\n"
     ]
    }
   ],
   "source": [
    "list = [\"apple\",\"bannana\",\"grapes\"]\n",
    "print(list)\n",
    "list = []\n",
    "list.append(\"apple\")\n",
    "list.append(\"bannana\")\n",
    "list.append(\"grapes\")\n",
    "print(\"The length of list is: \", len(list))\n",
    "#Write a program which print the length of the list?"
   ]
  },
  {
   "cell_type": "code",
   "execution_count": 29,
   "metadata": {},
   "outputs": [
    {
     "name": "stdout",
     "output_type": "stream",
     "text": [
      "Sum of all elements in given list:  165\n"
     ]
    }
   ],
   "source": [
    "total = 0\n",
    "ele = 0\n",
    "list1 = [22, 5, 77, 45, 16]\n",
    "while(ele < len(list1)):\n",
    "    total = total + list1[ele]\n",
    "    ele += 1\n",
    "print(\"Sum of all elements in given list: \", total)\n",
    "#10.Write a Python program to sum all the numeric items in a list?"
   ]
  },
  {
   "cell_type": "code",
   "execution_count": 33,
   "metadata": {},
   "outputs": [
    {
     "name": "stdout",
     "output_type": "stream",
     "text": [
      "Largest element is: 22\n"
     ]
    }
   ],
   "source": [
    "list1 = [2,4,1,6,2,10,22]\n",
    "list1.sort()\n",
    "print(\"Largest element is:\", list1[-1])\n",
    "#11.Write a Python program to get the largest number from a numeric list."
   ]
  },
  {
   "cell_type": "code",
   "execution_count": 43,
   "metadata": {},
   "outputs": [
    {
     "name": "stdout",
     "output_type": "stream",
     "text": [
      "1\n",
      "1\n",
      "2\n",
      "3\n"
     ]
    }
   ],
   "source": [
    "a = [1, 1, 2, 3, 5, 8, 13, 21, 34, 55, 89]\n",
    "for i in a:\n",
    "    if i < 5:\n",
    "        print(i)\n",
    "#12. Take a list, say for example this one:\n",
    "#a = [1, 1, 2, 3, 5, 8, 13, 21, 34, 55, 89]\n",
    "#Write a program that prints out all the elements of the list that are less than 5."
   ]
  },
  {
   "cell_type": "code",
   "execution_count": 47,
   "metadata": {},
   "outputs": [
    {
     "name": "stdout",
     "output_type": "stream",
     "text": [
      "Twinkle, twinkle, little star, \n",
      "\tHow I wonder what you are! \n",
      "\t\tUp above the world so high, \n",
      "\t\tLike a diamond in the sky. \n",
      "Twinkle, twinkle, little star, \n",
      "\tHow I wonder what you are\n"
     ]
    }
   ],
   "source": [
    "print(\"Twinkle, twinkle, little star, \\n\\tHow I wonder what you are! \\n\\t\\tUp above the world so high, \\n\\t\\tLike a diamond in the sky. \\nTwinkle, twinkle, little star, \\n\\tHow I wonder what you are\") \n",
    "# Q1 Write a Python program to print the following string in a specific format (see the\n",
    "#output)."
   ]
  },
  {
   "cell_type": "code",
   "execution_count": 54,
   "metadata": {},
   "outputs": [
    {
     "name": "stdout",
     "output_type": "stream",
     "text": [
      "Python version\n",
      "3.7.4 (default, Aug  9 2019, 18:34:13) [MSC v.1915 64 bit (AMD64)]\n"
     ]
    }
   ],
   "source": [
    "print(\"Python version\")\n",
    "print (sys.version)\n",
    "#Write a Python program to get the Python version you are using"
   ]
  },
  {
   "cell_type": "code",
   "execution_count": null,
   "metadata": {},
   "outputs": [],
   "source": []
  }
 ],
 "metadata": {
  "kernelspec": {
   "display_name": "Python 3",
   "language": "python",
   "name": "python3"
  },
  "language_info": {
   "codemirror_mode": {
    "name": "ipython",
    "version": 3
   },
   "file_extension": ".py",
   "mimetype": "text/x-python",
   "name": "python",
   "nbconvert_exporter": "python",
   "pygments_lexer": "ipython3",
   "version": "3.7.4"
  }
 },
 "nbformat": 4,
 "nbformat_minor": 2
}
